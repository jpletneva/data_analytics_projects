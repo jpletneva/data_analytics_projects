{
 "cells": [
  {
   "cell_type": "markdown",
   "metadata": {},
   "source": [
    "<div class=\"alert alert-info\">\n",
    "<h2> Комментарий от ревьюера</h2>\n",
    "Привет. Меня зовут Алина Гусева, я буду делать ревью к твоей работе по исследоаватльскому анализу данных. В дальнейшем предлагаю общаться на \"ты\".\n",
    "    \n",
    "Видно, что ты старалась, делая проект. Все ключевые этапы проекта выполнены, в целом тебе удалось со всем справиться. Особенно хочется отметить, что соблюдена структура проекта, а код написан аккуратно. \n",
    "    \n",
    "Для того, чтобы и тебе и мне удобнее бы\n",
    "    ло ориентироваться в комментариях, я буду помечать их разными цветами:\n",
    "- красный цвет означает комментарии, которые требуют доработки. Как только ты их исправишь - проект будет принят;\n",
    "- желтый цвет - то, что в следующий раз можно будет сделать по-другому. На твое усмотрение можешь доделать маленькие правки сейчас или учесть замечание для выполнения следующих проектов;\n",
    "- зеленый цвет - очень элегантные и удачные решение, которые желательно использовать в дальнейшей работе.\n",
    "- синий цвет - информация\n",
    "    \n",
    "Предлагаю работать над проектом в диалоге: если ты что-то изменяешь или вносишь какие-то коррективы - выделяй это каким-нибудь цветом и пиши об этом мне. Так мне гораздо легче будет отследить сделанные изменения.\n",
    "    \n",
    "Также попрошу тебя не изменять и не удалять мои комментарии, чтобы проверка твоего самостоятельного проекта прошла оперативнее.\n",
    "    \n",
    " \n",
    "</div>"
   ]
  },
  {
   "cell_type": "markdown",
   "metadata": {},
   "source": [
    "## Исследование надёжности заёмщиков\n",
    "\n",
    "Заказчик — кредитный отдел банка. Нужно разобраться, влияет ли семейное положение и количество детей клиента на факт погашения кредита в срок. Входные данные от банка — статистика о платёжеспособности клиентов.\n",
    "\n",
    "Результаты исследования будут учтены при построении модели **кредитного скоринга** — специальной системы, которая оценивает способность потенциального заёмщика вернуть кредит банку."
   ]
  },
  {
   "cell_type": "markdown",
   "metadata": {},
   "source": [
    "### Шаг 1. Откройте файл с данными и изучите общую информацию. "
   ]
  },
  {
   "cell_type": "markdown",
   "metadata": {},
   "source": [
    "Прочитаем файл  и сохраним его в переменной data.\n",
    "\n",
    "Изучим общую информацию о данных таблицы и получим первые 10 строк таблицы."
   ]
  },
  {
   "cell_type": "code",
   "execution_count": 4,
   "metadata": {},
   "outputs": [
    {
     "name": "stdout",
     "output_type": "stream",
     "text": [
      "<class 'pandas.core.frame.DataFrame'>\n",
      "RangeIndex: 21525 entries, 0 to 21524\n",
      "Data columns (total 12 columns):\n",
      "children            21525 non-null int64\n",
      "days_employed       19351 non-null float64\n",
      "dob_years           21525 non-null int64\n",
      "education           21525 non-null object\n",
      "education_id        21525 non-null int64\n",
      "family_status       21525 non-null object\n",
      "family_status_id    21525 non-null int64\n",
      "gender              21525 non-null object\n",
      "income_type         21525 non-null object\n",
      "debt                21525 non-null int64\n",
      "total_income        19351 non-null float64\n",
      "purpose             21525 non-null object\n",
      "dtypes: float64(2), int64(5), object(5)\n",
      "memory usage: 2.0+ MB\n"
     ]
    },
    {
     "data": {
      "text/html": [
       "<div>\n",
       "<style scoped>\n",
       "    .dataframe tbody tr th:only-of-type {\n",
       "        vertical-align: middle;\n",
       "    }\n",
       "\n",
       "    .dataframe tbody tr th {\n",
       "        vertical-align: top;\n",
       "    }\n",
       "\n",
       "    .dataframe thead th {\n",
       "        text-align: right;\n",
       "    }\n",
       "</style>\n",
       "<table border=\"1\" class=\"dataframe\">\n",
       "  <thead>\n",
       "    <tr style=\"text-align: right;\">\n",
       "      <th></th>\n",
       "      <th>children</th>\n",
       "      <th>days_employed</th>\n",
       "      <th>dob_years</th>\n",
       "      <th>education_id</th>\n",
       "      <th>family_status_id</th>\n",
       "      <th>debt</th>\n",
       "      <th>total_income</th>\n",
       "    </tr>\n",
       "  </thead>\n",
       "  <tbody>\n",
       "    <tr>\n",
       "      <td>count</td>\n",
       "      <td>21525.000000</td>\n",
       "      <td>19351.000000</td>\n",
       "      <td>21525.000000</td>\n",
       "      <td>21525.000000</td>\n",
       "      <td>21525.000000</td>\n",
       "      <td>21525.000000</td>\n",
       "      <td>1.935100e+04</td>\n",
       "    </tr>\n",
       "    <tr>\n",
       "      <td>mean</td>\n",
       "      <td>0.538908</td>\n",
       "      <td>63046.497661</td>\n",
       "      <td>43.293380</td>\n",
       "      <td>0.817236</td>\n",
       "      <td>0.972544</td>\n",
       "      <td>0.080883</td>\n",
       "      <td>1.674223e+05</td>\n",
       "    </tr>\n",
       "    <tr>\n",
       "      <td>std</td>\n",
       "      <td>1.381587</td>\n",
       "      <td>140827.311974</td>\n",
       "      <td>12.574584</td>\n",
       "      <td>0.548138</td>\n",
       "      <td>1.420324</td>\n",
       "      <td>0.272661</td>\n",
       "      <td>1.029716e+05</td>\n",
       "    </tr>\n",
       "    <tr>\n",
       "      <td>min</td>\n",
       "      <td>-1.000000</td>\n",
       "      <td>-18388.949901</td>\n",
       "      <td>0.000000</td>\n",
       "      <td>0.000000</td>\n",
       "      <td>0.000000</td>\n",
       "      <td>0.000000</td>\n",
       "      <td>2.066726e+04</td>\n",
       "    </tr>\n",
       "    <tr>\n",
       "      <td>25%</td>\n",
       "      <td>0.000000</td>\n",
       "      <td>-2747.423625</td>\n",
       "      <td>33.000000</td>\n",
       "      <td>1.000000</td>\n",
       "      <td>0.000000</td>\n",
       "      <td>0.000000</td>\n",
       "      <td>1.030532e+05</td>\n",
       "    </tr>\n",
       "    <tr>\n",
       "      <td>50%</td>\n",
       "      <td>0.000000</td>\n",
       "      <td>-1203.369529</td>\n",
       "      <td>42.000000</td>\n",
       "      <td>1.000000</td>\n",
       "      <td>0.000000</td>\n",
       "      <td>0.000000</td>\n",
       "      <td>1.450179e+05</td>\n",
       "    </tr>\n",
       "    <tr>\n",
       "      <td>75%</td>\n",
       "      <td>1.000000</td>\n",
       "      <td>-291.095954</td>\n",
       "      <td>53.000000</td>\n",
       "      <td>1.000000</td>\n",
       "      <td>1.000000</td>\n",
       "      <td>0.000000</td>\n",
       "      <td>2.034351e+05</td>\n",
       "    </tr>\n",
       "    <tr>\n",
       "      <td>max</td>\n",
       "      <td>20.000000</td>\n",
       "      <td>401755.400475</td>\n",
       "      <td>75.000000</td>\n",
       "      <td>4.000000</td>\n",
       "      <td>4.000000</td>\n",
       "      <td>1.000000</td>\n",
       "      <td>2.265604e+06</td>\n",
       "    </tr>\n",
       "  </tbody>\n",
       "</table>\n",
       "</div>"
      ],
      "text/plain": [
       "           children  days_employed     dob_years  education_id  \\\n",
       "count  21525.000000   19351.000000  21525.000000  21525.000000   \n",
       "mean       0.538908   63046.497661     43.293380      0.817236   \n",
       "std        1.381587  140827.311974     12.574584      0.548138   \n",
       "min       -1.000000  -18388.949901      0.000000      0.000000   \n",
       "25%        0.000000   -2747.423625     33.000000      1.000000   \n",
       "50%        0.000000   -1203.369529     42.000000      1.000000   \n",
       "75%        1.000000    -291.095954     53.000000      1.000000   \n",
       "max       20.000000  401755.400475     75.000000      4.000000   \n",
       "\n",
       "       family_status_id          debt  total_income  \n",
       "count      21525.000000  21525.000000  1.935100e+04  \n",
       "mean           0.972544      0.080883  1.674223e+05  \n",
       "std            1.420324      0.272661  1.029716e+05  \n",
       "min            0.000000      0.000000  2.066726e+04  \n",
       "25%            0.000000      0.000000  1.030532e+05  \n",
       "50%            0.000000      0.000000  1.450179e+05  \n",
       "75%            1.000000      0.000000  2.034351e+05  \n",
       "max            4.000000      1.000000  2.265604e+06  "
      ]
     },
     "execution_count": 4,
     "metadata": {},
     "output_type": "execute_result"
    }
   ],
   "source": [
    "import pandas as pd\n",
    "data = pd.read_csv('/datasets/data.csv')\n",
    "data.info()\n",
    "data.head(10)\n",
    "data.describe()"
   ]
  },
  {
   "cell_type": "markdown",
   "metadata": {},
   "source": [
    "### Вывод"
   ]
  },
  {
   "cell_type": "markdown",
   "metadata": {},
   "source": [
    "Рассмотрим полученную информацию подробнее.\n",
    "\n",
    "Всего в таблице 12 столбцов, тип данных у столбцов разный: object, int64, float64.\n",
    "\n",
    "Данные содержат информацию по 21525 клиентам банка. Количество значений в столбцах days_employed и total_income меньше, чем в других. Это говорит о том, что в данных есть пропущенные значения. Более того, столбец days_employed содержит отрицательные значения. Также сразу заметен разный регистр в столбце education."
   ]
  },
  {
   "cell_type": "markdown",
   "metadata": {},
   "source": [
    "<div class=\"alert alert-success\">\n",
    "<h2> Комментарий от ревьюера</h2>\n",
    "Молодец, хороший тон использовать метод info() для получения общей информации из таблицы. Для более детального изучения можно воспользоваться методом describe()\n",
    "\n",
    "</div>"
   ]
  },
  {
   "cell_type": "markdown",
   "metadata": {},
   "source": [
    "### Шаг 2. Предобработка данных"
   ]
  },
  {
   "cell_type": "markdown",
   "metadata": {},
   "source": [
    "### Обработка пропусков"
   ]
  },
  {
   "cell_type": "code",
   "execution_count": 4,
   "metadata": {},
   "outputs": [
    {
     "name": "stdout",
     "output_type": "stream",
     "text": [
      "<class 'pandas.core.frame.DataFrame'>\n",
      "RangeIndex: 21525 entries, 0 to 21524\n",
      "Data columns (total 12 columns):\n",
      "children            21525 non-null int64\n",
      "days_employed       21525 non-null float64\n",
      "dob_years           21525 non-null int64\n",
      "education           21525 non-null object\n",
      "education_id        21525 non-null int64\n",
      "family_status       21525 non-null object\n",
      "family_status_id    21525 non-null int64\n",
      "gender              21525 non-null object\n",
      "income_type         21525 non-null object\n",
      "debt                21525 non-null int64\n",
      "total_income        21525 non-null float64\n",
      "purpose             21525 non-null object\n",
      "dtypes: float64(2), int64(5), object(5)\n",
      "memory usage: 2.0+ MB\n"
     ]
    }
   ],
   "source": [
    "#обрабатываем пропущенные значения в переменной total_income. Заполним пропущенные значения на средние по группам income_type.\n",
    "#замена средними по группам income_type будет более точной, чем замена пропущенных значений средним по всем данным \n",
    "data['total_income'] = data.groupby('income_type')['total_income'].apply(lambda x: x.fillna(x.mean()))\n",
    "\n",
    "\n",
    "#обрабатываем пропущенные значения в переменной days_employed. Так этот столбец содержит значения, которые трудно идентифицировать, \n",
    "#и он не нужен для ответа на поставленные вопросы, то мы просто можем заполним пропушенные значения 0 и перевести все значения в положительные числа\n",
    "data['days_employed'] = data['days_employed'].fillna(0)\n",
    "data['days_employed'] = data['days_employed'].abs()\n",
    "#проверим преобразования\n",
    "data.info()\n"
   ]
  },
  {
   "cell_type": "markdown",
   "metadata": {},
   "source": [
    "### Вывод"
   ]
  },
  {
   "cell_type": "markdown",
   "metadata": {},
   "source": [
    "Пустые значения свидетельствуют, что для некоторых клиентов банка доступна не вся информация. Причины могут быть, как отсутвие части информации по клиенту, так и проблема с записью данных. "
   ]
  },
  {
   "cell_type": "markdown",
   "metadata": {},
   "source": [
    "<div class=\"alert alert-success\">\n",
    "<h2> Комментарий от ревьюера</h2>\n",
    "Супер, все верно! Действительно, в столбце total_income много пропущенных значений. Самый логичный способ --- предварительно сгруппировать людей по типу занятости, а замет заменять пропуски. Но воспользоваться лучше все-таки медианным значением, так как оно менее подвержено выбросам.\n",
    "    \n",
    "    \n",
    "Также можно заметить, что пропуски в этих двух столбцах симметричные. Можно придумать способ как заменить пропуски, но поскольку для дальнейшего исселдования на не нужен столбец days_employed, то монжо просто привести его к корректному виду( заменить значения на положительные и избавиться от пропусков)\n",
    "\n",
    "</div>"
   ]
  },
  {
   "cell_type": "markdown",
   "metadata": {},
   "source": [
    "### Замена типа данных"
   ]
  },
  {
   "cell_type": "code",
   "execution_count": 5,
   "metadata": {},
   "outputs": [
    {
     "name": "stdout",
     "output_type": "stream",
     "text": [
      "<class 'pandas.core.frame.DataFrame'>\n",
      "RangeIndex: 21525 entries, 0 to 21524\n",
      "Data columns (total 12 columns):\n",
      "children            21525 non-null int64\n",
      "days_employed       21525 non-null int64\n",
      "dob_years           21525 non-null int64\n",
      "education           21525 non-null object\n",
      "education_id        21525 non-null int64\n",
      "family_status       21525 non-null object\n",
      "family_status_id    21525 non-null int64\n",
      "gender              21525 non-null object\n",
      "income_type         21525 non-null object\n",
      "debt                21525 non-null int64\n",
      "total_income        21525 non-null int64\n",
      "purpose             21525 non-null object\n",
      "dtypes: int64(7), object(5)\n",
      "memory usage: 2.0+ MB\n"
     ]
    }
   ],
   "source": [
    "#переведем все значения столбцов total_income и days_employed из типа float к целочисленному типу int c помощью метода astype\n",
    "data['total_income'] = data['total_income'].astype('int')\n",
    "data['days_employed'] = data['days_employed'].astype('int')\n",
    "#проверим преобразования\n",
    "data.info()\n"
   ]
  },
  {
   "cell_type": "markdown",
   "metadata": {},
   "source": [
    "### Вывод"
   ]
  },
  {
   "cell_type": "markdown",
   "metadata": {},
   "source": [
    "Мы перевели значения столбцов total_income и days_employed к целочисленному типу int, чтобы увеличить точность и избежать неявных ошибок"
   ]
  },
  {
   "cell_type": "markdown",
   "metadata": {},
   "source": [
    "<div class=\"alert alert-success\">\n",
    "<h2> Комментарий от ревьюера</h2>\n",
    "Отлично, теперь все столбцы имеют корректный тип данных.\n",
    "</div>"
   ]
  },
  {
   "cell_type": "markdown",
   "metadata": {},
   "source": [
    "### Обработка дубликатов"
   ]
  },
  {
   "cell_type": "code",
   "execution_count": 6,
   "metadata": {},
   "outputs": [
    {
     "data": {
      "text/plain": [
       "0"
      ]
     },
     "execution_count": 6,
     "metadata": {},
     "output_type": "execute_result"
    }
   ],
   "source": [
    "#посчитаем количество дубликатов \n",
    "data.duplicated().sum()\n",
    "#при взгляде на таблицу сразу бросается в глаза разный регистр в столбце education, проверим\n",
    "data['education'].value_counts()\n",
    "#переведем все значения столбца education в нижний регистр\n",
    "data['education'] = data['education'].str.lower()\n",
    "#посчитаем количество дубликатов \n",
    "data.duplicated().sum()\n",
    "#также проверим, существует ли проблема разных регистров в столбцах family_status и purpose\n",
    "data['family_status'].value_counts()\n",
    "data['purpose'].value_counts()\n",
    "\n",
    "#обнаружно 71 дубликат, так как и это составляет малую долю от всего объема данных, мы удаляем их \n",
    "data = data.drop_duplicates().reset_index(drop = True)\n",
    "#проверяем\n",
    "data.duplicated().sum()\n",
    "\n"
   ]
  },
  {
   "cell_type": "markdown",
   "metadata": {},
   "source": [
    "### Вывод"
   ]
  },
  {
   "cell_type": "markdown",
   "metadata": {},
   "source": [
    "На этапе предобработки в данных обнаружились не только пропуски, но и дубликаты. Их удаление позволит провести анализ точнее. "
   ]
  },
  {
   "cell_type": "markdown",
   "metadata": {},
   "source": [
    "<div class=\"alert alert-success\">\n",
    "<h2> Комментарий от ревьюера</h2>\n",
    "Молодец! Здесь важно помнить, что перед обработкой пропусков необходимо привести текстовый формат данных к единому виду, а затем уже избавляться от повторов. Иначе, результат будет иной.\n",
    "\n",
    "</div>"
   ]
  },
  {
   "cell_type": "markdown",
   "metadata": {},
   "source": [
    "### Лемматизация"
   ]
  },
  {
   "cell_type": "code",
   "execution_count": 7,
   "metadata": {},
   "outputs": [
    {
     "name": "stdout",
     "output_type": "stream",
     "text": [
      "0                         покупка   жилье \\n\n",
      "1               приобретение   автомобиль \\n\n",
      "2                         покупка   жилье \\n\n",
      "3            дополнительный   образование \\n\n",
      "4                       сыграть   свадьба \\n\n",
      "                        ...                 \n",
      "21449                операция   с   жилье \\n\n",
      "21450             сделка   с   автомобиль \\n\n",
      "21451                        недвижимость \\n\n",
      "21452    на   покупка   свой   автомобиль \\n\n",
      "21453           на   покупка   автомобиль \\n\n",
      "Name: lemma_purpose, Length: 21454, dtype: object\n"
     ]
    }
   ],
   "source": [
    "# импортируем pymystem3:\n",
    "from pymystem3 import Mystem\n",
    "m = Mystem()\n",
    "\n",
    "#создаем функцию для лемматизации столбца, для наглядности итоговый результат склеили вызовом метода join()\n",
    "def lemmas(purpose):\n",
    "    lemmas_list = ' '.join(m.lemmatize(purpose))\n",
    "    return lemmas_list\n",
    "\n",
    "#применяем функцию к стобцу purpose, и записваем результаты в новый столбец lemma_purpose\n",
    "data['lemma_purpose'] = data['purpose'].apply(lemmas)\n",
    "\n",
    "#проверяем, что получилось\n",
    "print(data['lemma_purpose'])\n",
    "\n",
    "#сразу категоризируем полученные значения, по наиболее часто встречающимся целям кредита\n",
    "def purpose_category(lemmas):\n",
    "    if ('жилье' in lemmas) or ('недвижимость' in lemmas):\n",
    "        return 'Займ на покупку недвижимости'\n",
    "    if 'образование' in lemmas:\n",
    "        return 'Займ на образование'\n",
    "    if 'автомобиль' in lemmas:\n",
    "        return 'Займ на автомобиль'\n",
    "    if 'свадьба' in lemmas:\n",
    "        return 'Займ на свадьбу'\n",
    "    return 'Другое'\n",
    "    \n",
    "\n",
    "#создадим новый столбец category, куда запишем результаты категоризации по целям кредита  \n",
    "data['category'] = data['lemma_purpose'].apply(purpose_category)\n",
    "        "
   ]
  },
  {
   "cell_type": "code",
   "execution_count": 8,
   "metadata": {},
   "outputs": [
    {
     "name": "stdout",
     "output_type": "stream",
     "text": [
      "Займ на покупку недвижимости    10811\n",
      "Займ на автомобиль               4306\n",
      "Займ на образование              4013\n",
      "Займ на свадьбу                  2324\n",
      "Name: category, dtype: int64\n"
     ]
    }
   ],
   "source": [
    "#проверим результаты \n",
    "print(data['category'].value_counts())"
   ]
  },
  {
   "cell_type": "markdown",
   "metadata": {},
   "source": [
    "### Вывод"
   ]
  },
  {
   "cell_type": "markdown",
   "metadata": {},
   "source": [
    "Мы лемматизировали столбец purpose, что позволило нам проанализировать текстовые данные и разделить из на категории. Это пригодится нам для ответа на поставленные вопросы. \n",
    "Оказалось, что все цели кредита можно разделить на четыре группы: недвижимость, автомобиль, образование и свадьба. Чаще всего люди обращались за кредитами, связанными с недвижимостью, реже всего за кредитами на свадьбу."
   ]
  },
  {
   "cell_type": "markdown",
   "metadata": {},
   "source": [
    "<div class=\"alert alert-success\">\n",
    "<h2> Комментарий от ревьюера</h2>\n",
    "Ура, лемматизация прошла успешно. Отдельно хочу похвалить за использование функций. Таким образом твой код становится гораздо структурированнее.\n",
    "\n",
    "</div>"
   ]
  },
  {
   "cell_type": "markdown",
   "metadata": {},
   "source": [
    "### Категоризация данных"
   ]
  },
  {
   "cell_type": "code",
   "execution_count": 9,
   "metadata": {},
   "outputs": [
    {
     "name": "stdout",
     "output_type": "stream",
     "text": [
      "0    14091\n",
      "1     4855\n",
      "2     2052\n",
      "3      330\n",
      "4       41\n",
      "5        9\n",
      "Name: children, dtype: int64\n"
     ]
    }
   ],
   "source": [
    "#для ответа на поставленные вопросы необходимо категоризировать данны по количеству детей и по доходу\n",
    "#начнем с количества детей\n",
    "data['children'].value_counts()\n",
    "#в 46 случаях количество детей равно -1, это похоже на опечатку, поэтому переведем все данные в положительные числа \n",
    "data['children'] = data['children'].abs()\n",
    "data['children'].value_counts()\n",
    "#у 76 заемщиков указано 20 детей, эти данные выглядят нереалистично, поэтому их лучше удалить \n",
    "data = data.loc[data['children'] != 20]\n",
    "print(data['children'].value_counts())"
   ]
  },
  {
   "cell_type": "code",
   "execution_count": 10,
   "metadata": {},
   "outputs": [],
   "source": [
    "#категоризируем данные по наличию/количеству детей\n",
    "\n",
    "def family_type(children):\n",
    "    if children == 0:\n",
    "        return 'без детей'\n",
    "    if 1 <= children <= 2:\n",
    "        return 'малодетная семья'\n",
    "    if children >= 3:\n",
    "        return 'многодетная семья'\n",
    "#создадим новый столбец для категории\n",
    "\n",
    "data['family_type'] = data['children'].apply(family_type)"
   ]
  },
  {
   "cell_type": "code",
   "execution_count": 11,
   "metadata": {},
   "outputs": [
    {
     "data": {
      "text/html": [
       "<div>\n",
       "<style scoped>\n",
       "    .dataframe tbody tr th:only-of-type {\n",
       "        vertical-align: middle;\n",
       "    }\n",
       "\n",
       "    .dataframe tbody tr th {\n",
       "        vertical-align: top;\n",
       "    }\n",
       "\n",
       "    .dataframe thead th {\n",
       "        text-align: right;\n",
       "    }\n",
       "</style>\n",
       "<table border=\"1\" class=\"dataframe\">\n",
       "  <thead>\n",
       "    <tr style=\"text-align: right;\">\n",
       "      <th></th>\n",
       "      <th>children</th>\n",
       "      <th>days_employed</th>\n",
       "      <th>dob_years</th>\n",
       "      <th>education</th>\n",
       "      <th>education_id</th>\n",
       "      <th>family_status</th>\n",
       "      <th>family_status_id</th>\n",
       "      <th>gender</th>\n",
       "      <th>income_type</th>\n",
       "      <th>debt</th>\n",
       "      <th>total_income</th>\n",
       "      <th>purpose</th>\n",
       "      <th>lemma_purpose</th>\n",
       "      <th>category</th>\n",
       "      <th>family_type</th>\n",
       "      <th>income_category</th>\n",
       "    </tr>\n",
       "  </thead>\n",
       "  <tbody>\n",
       "    <tr>\n",
       "      <td>0</td>\n",
       "      <td>1</td>\n",
       "      <td>8437</td>\n",
       "      <td>42</td>\n",
       "      <td>высшее</td>\n",
       "      <td>0</td>\n",
       "      <td>женат / замужем</td>\n",
       "      <td>0</td>\n",
       "      <td>F</td>\n",
       "      <td>сотрудник</td>\n",
       "      <td>0</td>\n",
       "      <td>253875</td>\n",
       "      <td>покупка жилья</td>\n",
       "      <td>покупка   жилье \\n</td>\n",
       "      <td>Займ на покупку недвижимости</td>\n",
       "      <td>малодетная семья</td>\n",
       "      <td>очень высокий доход</td>\n",
       "    </tr>\n",
       "    <tr>\n",
       "      <td>1</td>\n",
       "      <td>1</td>\n",
       "      <td>4024</td>\n",
       "      <td>36</td>\n",
       "      <td>среднее</td>\n",
       "      <td>1</td>\n",
       "      <td>женат / замужем</td>\n",
       "      <td>0</td>\n",
       "      <td>F</td>\n",
       "      <td>сотрудник</td>\n",
       "      <td>0</td>\n",
       "      <td>112080</td>\n",
       "      <td>приобретение автомобиля</td>\n",
       "      <td>приобретение   автомобиль \\n</td>\n",
       "      <td>Займ на автомобиль</td>\n",
       "      <td>малодетная семья</td>\n",
       "      <td>средний доход</td>\n",
       "    </tr>\n",
       "    <tr>\n",
       "      <td>2</td>\n",
       "      <td>0</td>\n",
       "      <td>5623</td>\n",
       "      <td>33</td>\n",
       "      <td>среднее</td>\n",
       "      <td>1</td>\n",
       "      <td>женат / замужем</td>\n",
       "      <td>0</td>\n",
       "      <td>M</td>\n",
       "      <td>сотрудник</td>\n",
       "      <td>0</td>\n",
       "      <td>145885</td>\n",
       "      <td>покупка жилья</td>\n",
       "      <td>покупка   жилье \\n</td>\n",
       "      <td>Займ на покупку недвижимости</td>\n",
       "      <td>без детей</td>\n",
       "      <td>средний доход</td>\n",
       "    </tr>\n",
       "    <tr>\n",
       "      <td>3</td>\n",
       "      <td>3</td>\n",
       "      <td>4124</td>\n",
       "      <td>32</td>\n",
       "      <td>среднее</td>\n",
       "      <td>1</td>\n",
       "      <td>женат / замужем</td>\n",
       "      <td>0</td>\n",
       "      <td>M</td>\n",
       "      <td>сотрудник</td>\n",
       "      <td>0</td>\n",
       "      <td>267628</td>\n",
       "      <td>дополнительное образование</td>\n",
       "      <td>дополнительный   образование \\n</td>\n",
       "      <td>Займ на образование</td>\n",
       "      <td>многодетная семья</td>\n",
       "      <td>очень высокий доход</td>\n",
       "    </tr>\n",
       "    <tr>\n",
       "      <td>4</td>\n",
       "      <td>0</td>\n",
       "      <td>340266</td>\n",
       "      <td>53</td>\n",
       "      <td>среднее</td>\n",
       "      <td>1</td>\n",
       "      <td>гражданский брак</td>\n",
       "      <td>1</td>\n",
       "      <td>F</td>\n",
       "      <td>пенсионер</td>\n",
       "      <td>0</td>\n",
       "      <td>158616</td>\n",
       "      <td>сыграть свадьбу</td>\n",
       "      <td>сыграть   свадьба \\n</td>\n",
       "      <td>Займ на свадьбу</td>\n",
       "      <td>без детей</td>\n",
       "      <td>высокий доход</td>\n",
       "    </tr>\n",
       "    <tr>\n",
       "      <td>5</td>\n",
       "      <td>0</td>\n",
       "      <td>926</td>\n",
       "      <td>27</td>\n",
       "      <td>высшее</td>\n",
       "      <td>0</td>\n",
       "      <td>гражданский брак</td>\n",
       "      <td>1</td>\n",
       "      <td>M</td>\n",
       "      <td>компаньон</td>\n",
       "      <td>0</td>\n",
       "      <td>255763</td>\n",
       "      <td>покупка жилья</td>\n",
       "      <td>покупка   жилье \\n</td>\n",
       "      <td>Займ на покупку недвижимости</td>\n",
       "      <td>без детей</td>\n",
       "      <td>очень высокий доход</td>\n",
       "    </tr>\n",
       "    <tr>\n",
       "      <td>6</td>\n",
       "      <td>0</td>\n",
       "      <td>2879</td>\n",
       "      <td>43</td>\n",
       "      <td>высшее</td>\n",
       "      <td>0</td>\n",
       "      <td>женат / замужем</td>\n",
       "      <td>0</td>\n",
       "      <td>F</td>\n",
       "      <td>компаньон</td>\n",
       "      <td>0</td>\n",
       "      <td>240525</td>\n",
       "      <td>операции с жильем</td>\n",
       "      <td>операция   с   жилье \\n</td>\n",
       "      <td>Займ на покупку недвижимости</td>\n",
       "      <td>без детей</td>\n",
       "      <td>очень высокий доход</td>\n",
       "    </tr>\n",
       "    <tr>\n",
       "      <td>7</td>\n",
       "      <td>0</td>\n",
       "      <td>152</td>\n",
       "      <td>50</td>\n",
       "      <td>среднее</td>\n",
       "      <td>1</td>\n",
       "      <td>женат / замужем</td>\n",
       "      <td>0</td>\n",
       "      <td>M</td>\n",
       "      <td>сотрудник</td>\n",
       "      <td>0</td>\n",
       "      <td>135823</td>\n",
       "      <td>образование</td>\n",
       "      <td>образование \\n</td>\n",
       "      <td>Займ на образование</td>\n",
       "      <td>без детей</td>\n",
       "      <td>средний доход</td>\n",
       "    </tr>\n",
       "    <tr>\n",
       "      <td>8</td>\n",
       "      <td>2</td>\n",
       "      <td>6929</td>\n",
       "      <td>35</td>\n",
       "      <td>высшее</td>\n",
       "      <td>0</td>\n",
       "      <td>гражданский брак</td>\n",
       "      <td>1</td>\n",
       "      <td>F</td>\n",
       "      <td>сотрудник</td>\n",
       "      <td>0</td>\n",
       "      <td>95856</td>\n",
       "      <td>на проведение свадьбы</td>\n",
       "      <td>на   проведение   свадьба \\n</td>\n",
       "      <td>Займ на свадьбу</td>\n",
       "      <td>малодетная семья</td>\n",
       "      <td>низкий доход</td>\n",
       "    </tr>\n",
       "    <tr>\n",
       "      <td>9</td>\n",
       "      <td>0</td>\n",
       "      <td>2188</td>\n",
       "      <td>41</td>\n",
       "      <td>среднее</td>\n",
       "      <td>1</td>\n",
       "      <td>женат / замужем</td>\n",
       "      <td>0</td>\n",
       "      <td>M</td>\n",
       "      <td>сотрудник</td>\n",
       "      <td>0</td>\n",
       "      <td>144425</td>\n",
       "      <td>покупка жилья для семьи</td>\n",
       "      <td>покупка   жилье   для   семья \\n</td>\n",
       "      <td>Займ на покупку недвижимости</td>\n",
       "      <td>без детей</td>\n",
       "      <td>средний доход</td>\n",
       "    </tr>\n",
       "  </tbody>\n",
       "</table>\n",
       "</div>"
      ],
      "text/plain": [
       "   children  days_employed  dob_years education  education_id  \\\n",
       "0         1           8437         42    высшее             0   \n",
       "1         1           4024         36   среднее             1   \n",
       "2         0           5623         33   среднее             1   \n",
       "3         3           4124         32   среднее             1   \n",
       "4         0         340266         53   среднее             1   \n",
       "5         0            926         27    высшее             0   \n",
       "6         0           2879         43    высшее             0   \n",
       "7         0            152         50   среднее             1   \n",
       "8         2           6929         35    высшее             0   \n",
       "9         0           2188         41   среднее             1   \n",
       "\n",
       "      family_status  family_status_id gender income_type  debt  total_income  \\\n",
       "0   женат / замужем                 0      F   сотрудник     0        253875   \n",
       "1   женат / замужем                 0      F   сотрудник     0        112080   \n",
       "2   женат / замужем                 0      M   сотрудник     0        145885   \n",
       "3   женат / замужем                 0      M   сотрудник     0        267628   \n",
       "4  гражданский брак                 1      F   пенсионер     0        158616   \n",
       "5  гражданский брак                 1      M   компаньон     0        255763   \n",
       "6   женат / замужем                 0      F   компаньон     0        240525   \n",
       "7   женат / замужем                 0      M   сотрудник     0        135823   \n",
       "8  гражданский брак                 1      F   сотрудник     0         95856   \n",
       "9   женат / замужем                 0      M   сотрудник     0        144425   \n",
       "\n",
       "                      purpose                     lemma_purpose  \\\n",
       "0               покупка жилья                покупка   жилье \\n   \n",
       "1     приобретение автомобиля      приобретение   автомобиль \\n   \n",
       "2               покупка жилья                покупка   жилье \\n   \n",
       "3  дополнительное образование   дополнительный   образование \\n   \n",
       "4             сыграть свадьбу              сыграть   свадьба \\n   \n",
       "5               покупка жилья                покупка   жилье \\n   \n",
       "6           операции с жильем           операция   с   жилье \\n   \n",
       "7                 образование                    образование \\n   \n",
       "8       на проведение свадьбы      на   проведение   свадьба \\n   \n",
       "9     покупка жилья для семьи  покупка   жилье   для   семья \\n   \n",
       "\n",
       "                       category        family_type      income_category  \n",
       "0  Займ на покупку недвижимости   малодетная семья  очень высокий доход  \n",
       "1            Займ на автомобиль   малодетная семья        средний доход  \n",
       "2  Займ на покупку недвижимости          без детей        средний доход  \n",
       "3           Займ на образование  многодетная семья  очень высокий доход  \n",
       "4               Займ на свадьбу          без детей        высокий доход  \n",
       "5  Займ на покупку недвижимости          без детей  очень высокий доход  \n",
       "6  Займ на покупку недвижимости          без детей  очень высокий доход  \n",
       "7           Займ на образование          без детей        средний доход  \n",
       "8               Займ на свадьбу   малодетная семья         низкий доход  \n",
       "9  Займ на покупку недвижимости          без детей        средний доход  "
      ]
     },
     "execution_count": 11,
     "metadata": {},
     "output_type": "execute_result"
    }
   ],
   "source": [
    "#категоризируем данные по доходу \n",
    "descriptive = data['total_income'].describe()\n",
    "quartile_1 = descriptive['25%']\n",
    "quartile_2 = descriptive['50%']\n",
    "quartile_3 = descriptive['75%']\n",
    "\n",
    "def income_category(total_income):\n",
    "    if total_income <= quartile_1:\n",
    "        return 'низкий доход'\n",
    "    if quartile_1 < total_income <= quartile_2:\n",
    "        return 'средний доход'\n",
    "    if quartile_2 < total_income <= quartile_3:\n",
    "        return 'высокий доход'\n",
    "    if total_income > quartile_3:\n",
    "        return 'очень высокий доход'\n",
    "\n",
    "#создадим новый столбец для категории\n",
    "\n",
    "data['income_category'] = data['total_income'].apply(income_category) \n",
    "\n",
    "data.head(10)"
   ]
  },
  {
   "cell_type": "markdown",
   "metadata": {},
   "source": [
    "### Вывод"
   ]
  },
  {
   "cell_type": "markdown",
   "metadata": {},
   "source": [
    "Мы также категоризировали данные по количеству детей и доходу.\n",
    "По количеству детей было выделено три категории: без детей, малодетные семьи (1-2 ребенка) и многодетные семьи (более 3 детей). Во время обработки стобца children, были обнаружены странные значения. Во-первых, отрицательные значения, которые, возможно, были опечаткой. Во-вторых, у 76 человек было указано 20 детей. Так как в данном случаем невозможно установить, откуда появились такие данные, мы их удалили. \n",
    "По доходам данные были категоризированы на 4 равные группы по квартилям.\n"
   ]
  },
  {
   "cell_type": "markdown",
   "metadata": {},
   "source": [
    "<div class=\"alert alert-success\">\n",
    "<h2> Комментарий от ревьюера</h2>\n",
    "Абослютно правильно решение. Во-первых, необходимо избавиться от аномальных значений в столбце children. А во-вторых, очень элегантный и красивый способ разбиения на группы по уровню дохода. Таким образом, получились примерно равные группы, которые позволят провести грамотное исследование.\n",
    "\n",
    "</div>"
   ]
  },
  {
   "cell_type": "markdown",
   "metadata": {},
   "source": [
    "### Шаг 3. Ответьте на вопросы"
   ]
  },
  {
   "cell_type": "markdown",
   "metadata": {},
   "source": [
    "- Есть ли зависимость между наличием детей и возвратом кредита в срок?"
   ]
  },
  {
   "cell_type": "code",
   "execution_count": 15,
   "metadata": {},
   "outputs": [
    {
     "name": "stdout",
     "output_type": "stream",
     "text": [
      "                   Нет долга  Есть долг Доля невозратов\n",
      "family_type                                            \n",
      "без детей              13028       1063            7.5%\n",
      "малодетная семья        6268        639            9.3%\n",
      "многодетная семья        349         31            8.2%\n"
     ]
    }
   ],
   "source": [
    "#создаем сводную табюлицу \n",
    "data_pivot = data.pivot_table(index='family_type', columns='debt', values='gender', aggfunc='count')\n",
    "data_pivot.columns = ['Нет долга', 'Есть долг']\n",
    "data_pivot['Доля невозратов'] = (data_pivot['Есть долг'] / (data_pivot['Есть долг'] + data_pivot['Нет долга'])).map('{:.1%}'.format)\n",
    "print(data_pivot)\n"
   ]
  },
  {
   "cell_type": "markdown",
   "metadata": {},
   "source": [
    "### Вывод"
   ]
  },
  {
   "cell_type": "markdown",
   "metadata": {},
   "source": [
    "Да, зависимость существует. Как видно из сводной таблицы: меньше всего вероятность невозврата кредита у бездетных людей. Чаще других кредит не выплачивают семьи с 1 ребенок или 2 детьми. Что интересно, у многодетных семей вероятность возвращения кредита в срок больше, чем у малодетных, но все-таки меньше, чем у бездетных.  "
   ]
  },
  {
   "cell_type": "markdown",
   "metadata": {},
   "source": [
    "<div class=\"alert alert-success\">\n",
    "<h2> Комментарий от ревьюера</h2>\n",
    "Верно, заемщики без детей самый ответственные.\n",
    "\n",
    "</div>"
   ]
  },
  {
   "cell_type": "markdown",
   "metadata": {},
   "source": [
    "- Есть ли зависимость между семейным положением и возвратом кредита в срок?"
   ]
  },
  {
   "cell_type": "code",
   "execution_count": 16,
   "metadata": {},
   "outputs": [
    {
     "name": "stdout",
     "output_type": "stream",
     "text": [
      "                       Нет долга  Есть долг Доля невозратов\n",
      "family_status                                              \n",
      "Не женат / не замужем       2528        273            9.7%\n",
      "в разводе                   1109         84            7.0%\n",
      "вдовец / вдова               892         63            6.6%\n",
      "гражданский брак            3754        385            9.3%\n",
      "женат / замужем            11362        928            7.6%\n"
     ]
    }
   ],
   "source": [
    "family_status_pivot = data.pivot_table(index='family_status', columns='debt', values='gender', aggfunc='count')\n",
    "family_status_pivot.columns = ['Нет долга', 'Есть долг']\n",
    "family_status_pivot['Доля невозратов'] = (family_status_pivot['Есть долг'] / (family_status_pivot['Есть долг'] + family_status_pivot['Нет долга'])).map('{:.1%}'.format)\n",
    "print(family_status_pivot)\n",
    "\n",
    "\n"
   ]
  },
  {
   "cell_type": "markdown",
   "metadata": {},
   "source": [
    "### Вывод"
   ]
  },
  {
   "cell_type": "markdown",
   "metadata": {},
   "source": [
    "Чаще всего кредит не возвращают одинокие заемщики (9,7%), в то же время вдовствующие и разведенные заемщики реже всех имеют кредитные долги (6,6% и 7% соответственно). На втором месте по вероятности невозврата кредита находяться люди, состоящие в гражданском браке (9,3%), на третьем - состоящие в официальном браке (7,6%).\n",
    "Вероятно, здесь также существенную роль может играть возраст заемщиков, так как с одной стороны одинокие люди, которые указали не женат/не замужем хуже всего возвращают кредиты, с другой стороны вдовствующие и разведенные реже всего имеют долги (также можно отметить, что данных по этим двум группам существенно меньше, чем по остальным)."
   ]
  },
  {
   "cell_type": "markdown",
   "metadata": {},
   "source": [
    "<div class=\"alert alert-success\">\n",
    "<h2> Комментарий от ревьюера</h2>\n",
    "Посмотрев на сводную таблицу можно увидеть, что доля просроченых кредитов больше у людей, которые находятся в гражданском браке или не женаты. Чаще всего возращают кредиты вдовцы и вдовы.\n",
    "</div>\n"
   ]
  },
  {
   "cell_type": "markdown",
   "metadata": {},
   "source": [
    "- Есть ли зависимость между уровнем дохода и возвратом кредита в срок?"
   ]
  },
  {
   "cell_type": "code",
   "execution_count": 14,
   "metadata": {},
   "outputs": [
    {
     "name": "stdout",
     "output_type": "stream",
     "text": [
      "                     Нет долга  Есть долг Доля невозратов\n",
      "income_category                                          \n",
      "высокий доход             5306        492            8.5%\n",
      "низкий доход              4918        427            8.0%\n",
      "очень высокий доход       4547        343            7.0%\n",
      "средний доход             4874        471            8.8%\n"
     ]
    }
   ],
   "source": [
    "income_pivot = data.pivot_table(index='income_category', columns='debt', values='gender', aggfunc='count')\n",
    "income_pivot.columns = ['Нет долга', 'Есть долг']\n",
    "income_pivot['Доля невозратов'] = (income_pivot['Есть долг'] / (income_pivot['Есть долг'] + income_pivot['Нет долга'])).map('{:.1%}'.format)\n",
    "print(income_pivot)"
   ]
  },
  {
   "cell_type": "markdown",
   "metadata": {},
   "source": [
    "### Вывод"
   ]
  },
  {
   "cell_type": "markdown",
   "metadata": {},
   "source": [
    "Результаты показали, что хуже всего выплачивают кредиты люди со средним доходом, лучше всего - люди с очень высоким доходом."
   ]
  },
  {
   "cell_type": "markdown",
   "metadata": {},
   "source": [
    "<div class=\"alert alert-success\">\n",
    "<h2> Комментарий от ревьюера</h2>\n",
    "Здесь очент сильно влияет то, на какие группы ты разбила. Поскольку выборки по объему одинаковые, то можно сделать определенные выводы. Один из них, что люди с средним доходм имеют больше всего задолжностей.\n",
    "</div>\n"
   ]
  },
  {
   "cell_type": "markdown",
   "metadata": {},
   "source": [
    "- Как разные цели кредита влияют на его возврат в срок?"
   ]
  },
  {
   "cell_type": "code",
   "execution_count": 79,
   "metadata": {},
   "outputs": [
    {
     "name": "stdout",
     "output_type": "stream",
     "text": [
      "                              Нет долга  Есть долг Доля невозратов\n",
      "category                                                          \n",
      "Займ на автомобиль                 3898        401            9.3%\n",
      "Займ на образование                3638        369            9.2%\n",
      "Займ на покупку недвижимости      10024        780            7.2%\n",
      "Займ на свадьбу                    2156        183            7.8%\n"
     ]
    }
   ],
   "source": [
    "purpose_pivot = data.pivot_table(index='category', columns='debt', values='gender', aggfunc='count')\n",
    "purpose_pivot.columns = ['Нет долга', 'Есть долг']\n",
    "purpose_pivot['Доля невозратов'] = (purpose_pivot['Есть долг'] / (purpose_pivot['Есть долг'] + purpose_pivot['Нет долга'])).map('{:.1%}'.format)\n",
    "print(purpose_pivot)"
   ]
  },
  {
   "cell_type": "markdown",
   "metadata": {},
   "source": [
    "### Вывод"
   ]
  },
  {
   "cell_type": "markdown",
   "metadata": {},
   "source": [
    "Чаще всего не возвращали кредиты на покупку автомобиля, реже всего на покупку недвижимости."
   ]
  },
  {
   "cell_type": "markdown",
   "metadata": {},
   "source": [
    "### Шаг 4. Общий вывод"
   ]
  },
  {
   "cell_type": "markdown",
   "metadata": {},
   "source": [
    "Как показали результаты исследования, наличие детей, семейное положение, уровень дохода и цель кредита влияют на вероятность его возврата в срок. С наибольшей вероятность кредит вернет резведенный или вдовствующий заемщик без детей с очень высоким дохом, который берет кредит на покупку недвижимости. С наименьшей вероятностью - не женатый/не замужний заемщик с 1-2 детьми со средним доходом, который берет кредит на покупку автомобиля. Однако стоит отметить, что данных по семьям с 3 и более детьми в данных таблицы не очень много (всего 349), поэтому для более точных прогнозов необходимо больше данных по многодетным семьям."
   ]
  },
  {
   "cell_type": "markdown",
   "metadata": {},
   "source": [
    "<div class=\"alert alert-success\">\n",
    "<h2> Комментарий от ревьюера</h2>\n",
    "\n",
    "Поздравляю с первым успешным проектом!\n",
    "\n",
    "- Ты хорошо делаешь выводы и анализируешь результаты.\n",
    "    \n",
    "- Код написан аккуратно и качественно, видно, что есть какой-то определенный бэкграунд.\n",
    "\n",
    "- Соблюдена структура проекта, было приятно проверять:)\n",
    "    \n",
    "- Все написано четко и по делу\n",
    "\n",
    "    \n",
    "Желаю дальнейших успехов!\n",
    "\n",
    "\n",
    "</div>\n"
   ]
  },
  {
   "cell_type": "markdown",
   "metadata": {},
   "source": [
    "### Чек-лист готовности проекта\n",
    "\n",
    "Поставьте 'x' в выполненных пунктах. Далее нажмите Shift+Enter."
   ]
  },
  {
   "cell_type": "markdown",
   "metadata": {},
   "source": [
    "- [x]  открыт файл;\n",
    "- [x]  файл изучен;\n",
    "- [x]  определены пропущенные значения;\n",
    "- [x]  заполнены пропущенные значения;\n",
    "- [x]  есть пояснение, какие пропущенные значения обнаружены;\n",
    "- [x]  описаны возможные причины появления пропусков в данных;\n",
    "- [x]  объяснено, по какому принципу заполнены пропуски;\n",
    "- [x]  заменен вещественный тип данных на целочисленный;\n",
    "- [x]  есть пояснение, какой метод используется для изменения типа данных и почему;\n",
    "- [x]  удалены дубликаты;\n",
    "- [x]  есть пояснение, какой метод используется для поиска и удаления дубликатов;\n",
    "- [x]  описаны возможные причины появления дубликатов в данных;\n",
    "- [x]  выделены леммы в значениях столбца с целями получения кредита;\n",
    "- [x]  описан процесс лемматизации;\n",
    "- [x]  данные категоризированы;\n",
    "- [x]  есть объяснение принципа категоризации данных;\n",
    "- [x]  есть ответ на вопрос: \"Есть ли зависимость между наличием детей и возвратом кредита в срок?\";\n",
    "- [x]  есть ответ на вопрос: \"Есть ли зависимость между семейным положением и возвратом кредита в срок?\";\n",
    "- [x]  есть ответ на вопрос: \"Есть ли зависимость между уровнем дохода и возвратом кредита в срок?\";\n",
    "- [x]  есть ответ на вопрос: \"Как разные цели кредита влияют на его возврат в срок?\";\n",
    "- [x]  в каждом этапе есть выводы;\n",
    "- [x]  есть общий вывод."
   ]
  }
 ],
 "metadata": {
  "kernelspec": {
   "display_name": "Python 3",
   "language": "python",
   "name": "python3"
  },
  "language_info": {
   "codemirror_mode": {
    "name": "ipython",
    "version": 3
   },
   "file_extension": ".py",
   "mimetype": "text/x-python",
   "name": "python",
   "nbconvert_exporter": "python",
   "pygments_lexer": "ipython3",
   "version": "3.7.8"
  },
  "toc": {
   "base_numbering": 1,
   "nav_menu": {},
   "number_sections": true,
   "sideBar": true,
   "skip_h1_title": false,
   "title_cell": "Table of Contents",
   "title_sidebar": "Contents",
   "toc_cell": false,
   "toc_position": {},
   "toc_section_display": true,
   "toc_window_display": false
  }
 },
 "nbformat": 4,
 "nbformat_minor": 2
}
